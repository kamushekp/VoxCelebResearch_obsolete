{
 "cells": [
  {
   "cell_type": "code",
   "execution_count": 1,
   "metadata": {},
   "outputs": [
    {
     "name": "stderr",
     "output_type": "stream",
     "text": [
      "Using TensorFlow backend.\n"
     ]
    }
   ],
   "source": [
    "import tensorflow as tf\n",
    "from keras.backend.tensorflow_backend import set_session\n",
    "config = tf.ConfigProto()\n",
    "config.gpu_options.allow_growth = True  \n",
    "sess = tf.Session(config=config)\n",
    "set_session(sess)\n",
    "\n",
    "from scipy.spatial import distance"
   ]
  },
  {
   "cell_type": "code",
   "execution_count": 2,
   "metadata": {},
   "outputs": [
    {
     "name": "stderr",
     "output_type": "stream",
     "text": [
      "d:\\visualstudio\\shared\\python36_64\\lib\\site-packages\\keras\\engine\\saving.py:292: UserWarning: No training configuration found in save file: the model was *not* compiled. Compile it manually.\n",
      "  warnings.warn('No training configuration found in save file: '\n"
     ]
    }
   ],
   "source": [
    "from keras.models import load_model\n",
    "base_model = load_model('base_model.h5')"
   ]
  },
  {
   "cell_type": "code",
   "execution_count": 3,
   "metadata": {},
   "outputs": [],
   "source": [
    "from Feature_reader import *\n",
    "from TripletGenerator import *\n",
    "test_reader = Feature_reader(3, r\"D:\\VoxCeleb\\test\")\n",
    "test_triplet_generator = TripletGenerator(test_reader)"
   ]
  },
  {
   "cell_type": "code",
   "execution_count": 4,
   "metadata": {},
   "outputs": [],
   "source": [
    "from metrics import *\n",
    "\n",
    "def get_random_output(m, reader, Id):\n",
    "    fft = reader.get_ids_random_feature(Id)\n",
    "    prediction = m.predict(fft.reshape(1, fft.shape[0], fft.shape[1], 1))\n",
    "    reshaped = np.squeeze(prediction)\n",
    "    return reshaped\n",
    "\n",
    "def count_unsimilariry(m, reader, classes_count, class_realizations_count):\n",
    "    \n",
    "    Ids = set([random.choice(reader.ids) for _ in range(classes_count)])\n",
    "    realizations = []\n",
    "    for Id in Ids:\n",
    "        realizations.append([get_random_output(m, reader, Id) for _ in range(class_realizations_count)])\n",
    "                           \n",
    "    return (mean_cos_unsimilarity(realizations, internal = True), mean_cos_unsimilarity(realizations, internal = False))"
   ]
  },
  {
   "cell_type": "code",
   "execution_count": 5,
   "metadata": {},
   "outputs": [],
   "source": [
    "import random\n",
    "import numpy as np\n",
    "\n",
    "def verification(reader, pois, limit = 4715):\n",
    "    \n",
    "    ids = random.sample(reader.ids, pois)\n",
    "    realizations = {Id: [] for Id in ids}\n",
    "    \n",
    "    for _ in range(limit):\n",
    "        Id = random.choice(ids)\n",
    "        feature = reader.get_ids_random_feature(Id)\n",
    "        suitable_feature = feature.reshape(1, feature.shape[0], feature.shape[1], 1)\n",
    "        embedding = np.squeeze(base_model.predict(suitable_feature))\n",
    "        realizations[Id].append(embedding)\n",
    "    \n",
    "    realizations = [np.asarray(realizations[key]) for key in realizations]\n",
    "    \n",
    "    return realizations\n",
    "    "
   ]
  },
  {
   "cell_type": "code",
   "execution_count": 6,
   "metadata": {},
   "outputs": [],
   "source": [
    "db = verification(test_reader, 40)"
   ]
  },
  {
   "cell_type": "code",
   "execution_count": 7,
   "metadata": {},
   "outputs": [],
   "source": [
    "def AreSame(first, second, margin):\n",
    "    dist = distance.cdist(first, second, 'cosine')\n",
    "    return dist < margin\n",
    "\n",
    "def get_FAR_and_FRR(first, second, margin):\n",
    "    \n",
    "    far = np.mean(AreSame(first, second, margin))\n",
    "    \n",
    "    frr1 = 1 - np.mean(AreSame(first, first, margin))\n",
    "    frr2 = 1 - np.mean(AreSame(second, second, margin))\n",
    "    \n",
    "    frr = (frr1 + frr2) / 2\n",
    "    \n",
    "    return far, frr"
   ]
  },
  {
   "cell_type": "code",
   "execution_count": 8,
   "metadata": {},
   "outputs": [],
   "source": [
    "x_axe = []\n",
    "\n",
    "fars = []\n",
    "frrs = []\n",
    "\n",
    "for margin in np.linspace(0, 1, 50):\n",
    "\n",
    "    far = []\n",
    "    frr = []\n",
    "    for index1 in range(0, len(db)):\n",
    "        for index2 in range(index1 + 1, len(db)):\n",
    "            _far, _frr = get_FAR_and_FRR(db[index1], db[index2], margin)\n",
    "            \n",
    "            far.append(_far)\n",
    "            frr.append(_frr)\n",
    "    \n",
    "    frrs.append(np.mean(frr))\n",
    "    fars.append(np.mean(far))\n",
    "    x_axe.append(margin)"
   ]
  },
  {
   "cell_type": "code",
   "execution_count": 15,
   "metadata": {},
   "outputs": [
    {
     "data": {
      "image/png": "[encoded data removed]",
      "text/plain": [
       "<Figure size 432x288 with 1 Axes>"
      ]
     },
     "metadata": {
      "needs_background": "light"
     },
     "output_type": "display_data"
    }
   ],
   "source": [
    "import matplotlib.pyplot as plt\n",
    "plt.plot(x_axe, fars, label = 'False Acceptance Rate')\n",
    "plt.plot(x_axe, frrs, label = 'False Rejection Rate')\n",
    "plt.show()"
   ]
  },
  {
   "cell_type": "code",
   "execution_count": 136,
   "metadata": {},
   "outputs": [],
   "source": [
    "def classification_rate(realizations, i):\n",
    "    def i_nearest_rate(i, vector, positive, negative):\n",
    "        best_positive = [(True, x) for x in sorted(np.squeeze(distance.cdist(vector.reshape(1, -1), positive)))[:i]]\n",
    "        best_negative = [(False, x) for x in sorted(np.squeeze(distance.cdist(vector.reshape(1, -1), negative)))[:i]]\n",
    "        \n",
    "        correct = [x[0] for x in sorted(best_positive + best_negative, key = lambda x: x[1])][:i]\n",
    "        \n",
    "        return np.any(correct)\n",
    "    \n",
    "    corrects = []\n",
    "    \n",
    "    for classNumber in range(len(realizations)):\n",
    "        for realizationNumber in range(len(realizations[classNumber])):\n",
    "            vector = realizations[classNumber][realizationNumber]\n",
    "                        \n",
    "            positive = np.concatenate((realizations[classNumber][:realizationNumber], realizations[classNumber][realizationNumber + 1:]), axis = 0)\n",
    "            negative = np.asarray([e for sublist in realizations[:classNumber] + realizations[classNumber + 1:] for e in sublist])\n",
    "            \n",
    "            corrects.append(i_nearest_rate(i, vector, positive, negative) )\n",
    "            \n",
    "    return np.mean(corrects)"
   ]
  },
  {
   "cell_type": "code",
   "execution_count": 137,
   "metadata": {},
   "outputs": [
    {
     "name": "stdout",
     "output_type": "stream",
     "text": [
      "0.9522799575821845\n",
      "0.9785790031813362\n"
     ]
    }
   ],
   "source": [
    "print(classification_rate(db, 1))\n",
    "print(classification_rate(db, 5))"
   ]
  },
  {
   "cell_type": "code",
   "execution_count": 135,
   "metadata": {},
   "outputs": [
    {
     "name": "stdout",
     "output_type": "stream",
     "text": [
      "_________________________________________________________________\n",
      "Layer (type)                 Output Shape              Param #   \n",
      "=================================================================\n",
      "input (InputLayer)           (None, 512, None, 1)      0         \n",
      "_________________________________________________________________\n",
      "pad1 (ZeroPadding2D)         (None, 514, None, 1)      0         \n",
      "_________________________________________________________________\n",
      "conv1 (Conv2D)               (None, 254, None, 96)     4800      \n",
      "_________________________________________________________________\n",
      "bn1 (BatchNormalization)     (None, 254, None, 96)     384       \n",
      "_________________________________________________________________\n",
      "relu1 (Activation)           (None, 254, None, 96)     0         \n",
      "_________________________________________________________________\n",
      "mpool1 (MaxPooling2D)        (None, 126, None, 96)     0         \n",
      "_________________________________________________________________\n",
      "pad2 (ZeroPadding2D)         (None, 128, None, 96)     0         \n",
      "_________________________________________________________________\n",
      "conv2 (Conv2D)               (None, 62, None, 256)     614656    \n",
      "_________________________________________________________________\n",
      "bn2 (BatchNormalization)     (None, 62, None, 256)     1024      \n",
      "_________________________________________________________________\n",
      "relu2 (Activation)           (None, 62, None, 256)     0         \n",
      "_________________________________________________________________\n",
      "mpool2 (MaxPooling2D)        (None, 30, None, 256)     0         \n",
      "_________________________________________________________________\n",
      "pad3 (ZeroPadding2D)         (None, 32, None, 256)     0         \n",
      "_________________________________________________________________\n",
      "conv3 (Conv2D)               (None, 30, None, 384)     885120    \n",
      "_________________________________________________________________\n",
      "bn3 (BatchNormalization)     (None, 30, None, 384)     1536      \n",
      "_________________________________________________________________\n",
      "relu3 (Activation)           (None, 30, None, 384)     0         \n",
      "_________________________________________________________________\n",
      "pad4 (ZeroPadding2D)         (None, 32, None, 384)     0         \n",
      "_________________________________________________________________\n",
      "conv4 (Conv2D)               (None, 30, None, 256)     884992    \n",
      "_________________________________________________________________\n",
      "bn4 (BatchNormalization)     (None, 30, None, 256)     1024      \n",
      "_________________________________________________________________\n",
      "relu4 (Activation)           (None, 30, None, 256)     0         \n",
      "_________________________________________________________________\n",
      "pad5 (ZeroPadding2D)         (None, 32, None, 256)     0         \n",
      "_________________________________________________________________\n",
      "conv5 (Conv2D)               (None, 30, None, 256)     590080    \n",
      "_________________________________________________________________\n",
      "bn5 (BatchNormalization)     (None, 30, None, 256)     1024      \n",
      "_________________________________________________________________\n",
      "relu5 (Activation)           (None, 30, None, 256)     0         \n",
      "_________________________________________________________________\n",
      "mpool5 (MaxPooling2D)        (None, 9, None, 256)      0         \n",
      "_________________________________________________________________\n",
      "pad6 (ZeroPadding2D)         (None, 9, None, 256)      0         \n",
      "_________________________________________________________________\n",
      "fc6 (Conv2D)                 (None, 1, None, 4096)     9441280   \n",
      "_________________________________________________________________\n",
      "bn6 (BatchNormalization)     (None, 1, None, 4096)     16384     \n",
      "_________________________________________________________________\n",
      "relu6 (Activation)           (None, 1, None, 4096)     0         \n",
      "_________________________________________________________________\n",
      "gapool6 (GlobalAveragePoolin (None, 4096)              0         \n",
      "_________________________________________________________________\n",
      "reshape6 (Reshape)           (None, 1, 1, 4096)        0         \n",
      "_________________________________________________________________\n",
      "pad7 (ZeroPadding2D)         (None, 1, 1, 4096)        0         \n",
      "_________________________________________________________________\n",
      "fc7 (Conv2D)                 (None, 1, 1, 1024)        4195328   \n",
      "_________________________________________________________________\n",
      "bn7 (BatchNormalization)     (None, 1, 1, 1024)        4096      \n",
      "_________________________________________________________________\n",
      "relu7 (Activation)           (None, 1, 1, 1024)        0         \n",
      "_________________________________________________________________\n",
      "norm (Lambda)                (None, 1, 1, 1024)        0         \n",
      "_________________________________________________________________\n",
      "flatten (Flatten)            (None, 1024)              0         \n",
      "_________________________________________________________________\n",
      "embedding (Dense)            (None, 128)               131200    \n",
      "_________________________________________________________________\n",
      "leaky_re_lu_1 (LeakyReLU)    (None, 128)               0         \n",
      "_________________________________________________________________\n",
      "embedding2 (Dense)           (None, 128)               16512     \n",
      "_________________________________________________________________\n",
      "leaky_re_lu_2 (LeakyReLU)    (None, 128)               0         \n",
      "_________________________________________________________________\n",
      "lambda_1 (Lambda)            (None, 128)               0         \n",
      "=================================================================\n",
      "Total params: 16,789,440\n",
      "Trainable params: 147,712\n",
      "Non-trainable params: 16,641,728\n",
      "_________________________________________________________________\n"
     ]
    }
   ],
   "source": [
    "base_model.summary()"
   ]
  },
  {
   "cell_type": "code",
   "execution_count": null,
   "metadata": {},
   "outputs": [],
   "source": [
    "db[0]"
   ]
  },
  {
   "cell_type": "code",
   "execution_count": null,
   "metadata": {},
   "outputs": [],
   "source": []
  }
 ],
 "metadata": {
  "kernelspec": {
   "display_name": "Python 3",
   "language": "python",
   "name": "python3"
  },
  "language_info": {
   "codemirror_mode": {
    "name": "ipython",
    "version": 3
   },
   "file_extension": ".py",
   "mimetype": "text/x-python",
   "name": "python",
   "nbconvert_exporter": "python",
   "pygments_lexer": "ipython3",
   "version": "3.6.6"
  }
 },
 "nbformat": 4,
 "nbformat_minor": 2
}
